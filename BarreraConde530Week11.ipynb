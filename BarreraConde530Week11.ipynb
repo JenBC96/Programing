{
  "nbformat": 4,
  "nbformat_minor": 0,
  "metadata": {
    "colab": {
      "provenance": [],
      "authorship_tag": "ABX9TyP3enz0RGPfs6ROL/sgxWRP",
      "include_colab_link": true
    },
    "kernelspec": {
      "name": "python3",
      "display_name": "Python 3"
    },
    "language_info": {
      "name": "python"
    }
  },
  "cells": [
    {
      "cell_type": "markdown",
      "metadata": {
        "id": "view-in-github",
        "colab_type": "text"
      },
      "source": [
        "<a href=\"https://colab.research.google.com/github/JenBC96/Programing/blob/main/BarreraConde530Week11.ipynb\" target=\"_parent\"><img src=\"https://colab.research.google.com/assets/colab-badge.svg\" alt=\"Open In Colab\"/></a>"
      ]
    },
    {
      "cell_type": "markdown",
      "source": [
        "# Week 11\n",
        "# Course 530\n",
        "## Jennifer Barrera Conde\n",
        "### Exercise 13-1"
      ],
      "metadata": {
        "id": "lGoCsaRxEJ79"
      }
    },
    {
      "cell_type": "code",
      "execution_count": 1,
      "metadata": {
        "id": "LKP0R6_DED-r"
      },
      "outputs": [],
      "source": [
        "from os.path import basename, exists\n",
        "\n",
        "def download(url):\n",
        "    filename = basename(url)\n",
        "    if not exists(filename):\n",
        "        from urllib.request import urlretrieve\n",
        "\n",
        "        local, _ = urlretrieve(url, filename)\n",
        "        print(\"Downloaded \" + local)\n",
        "\n",
        "\n",
        "download(\"https://github.com/AllenDowney/ThinkStats2/raw/master/code/thinkstats2.py\")\n",
        "download(\"https://github.com/AllenDowney/ThinkStats2/raw/master/code/thinkplot.py\")"
      ]
    },
    {
      "cell_type": "code",
      "source": [
        "import thinkstats2\n",
        "import thinkplot"
      ],
      "metadata": {
        "id": "58QqVF--ETIM"
      },
      "execution_count": 2,
      "outputs": []
    },
    {
      "cell_type": "code",
      "source": [
        "import numpy as np\n",
        "import pandas as pd"
      ],
      "metadata": {
        "id": "5QRohWBiEWa9"
      },
      "execution_count": 3,
      "outputs": []
    },
    {
      "cell_type": "code",
      "source": [
        "try:\n",
        "    import empiricaldist\n",
        "except ImportError:\n",
        "    !pip install empiricaldist"
      ],
      "metadata": {
        "id": "qixcnhAQEYSF"
      },
      "execution_count": 4,
      "outputs": []
    },
    {
      "cell_type": "code",
      "source": [
        "download(\"https://github.com/AllenDowney/ThinkStats2/raw/master/code/nsfg.py\")\n",
        "download(\"https://github.com/AllenDowney/ThinkStats2/raw/master/code/2002FemPreg.dct\")\n",
        "download(\"https://github.com/AllenDowney/ThinkStats2/raw/master/code/2002FemPreg.dat.gz\")"
      ],
      "metadata": {
        "id": "58LDs1PiEak9"
      },
      "execution_count": 5,
      "outputs": []
    },
    {
      "cell_type": "code",
      "source": [
        "import nsfg\n",
        "\n",
        "preg = nsfg.ReadFemPreg()\n",
        "complete = preg.query(\"outcome in [1, 3, 4]\").prglngth\n",
        "cdf = thinkstats2.Cdf(complete, label=\"cdf\")"
      ],
      "metadata": {
        "id": "S7E2zCs6EeJu"
      },
      "execution_count": 6,
      "outputs": []
    },
    {
      "cell_type": "code",
      "source": [
        "download(\"https://github.com/AllenDowney/ThinkStats2/raw/master/code/survival.py\")"
      ],
      "metadata": {
        "id": "2GqCTSlfEf8W"
      },
      "execution_count": 7,
      "outputs": []
    },
    {
      "cell_type": "code",
      "source": [
        "import survival\n",
        "\n",
        "\n",
        "def MakeSurvivalFromCdf(cdf, label=\"\"):\n",
        "    ts = cdf.xs\n",
        "    ss = 1 - cdf.ps\n",
        "    return survival.SurvivalFunction(ts, ss, label)"
      ],
      "metadata": {
        "id": "gCOkfMyyEh7t"
      },
      "execution_count": 8,
      "outputs": []
    },
    {
      "cell_type": "code",
      "source": [
        "sf = MakeSurvivalFromCdf(cdf, label=\"survival\")"
      ],
      "metadata": {
        "id": "KLtULZA5HBci"
      },
      "execution_count": 9,
      "outputs": []
    },
    {
      "cell_type": "code",
      "source": [
        "def CleanData(resp):\n",
        "    resp.cmdivorcx.replace([9998, 9999], np.nan, inplace=True)\n",
        "\n",
        "    resp[\"notdivorced\"] = resp.cmdivorcx.isnull().astype(int)\n",
        "    resp[\"duration\"] = (resp.cmdivorcx - resp.cmmarrhx) / 12.0\n",
        "    resp[\"durationsofar\"] = (resp.cmintvw - resp.cmmarrhx) / 12.0\n",
        "\n",
        "    month0 = pd.to_datetime(\"1899-12-15\")\n",
        "    dates = [month0 + pd.DateOffset(months=cm) for cm in resp.cmbirth]\n",
        "    resp[\"decade\"] = (pd.DatetimeIndex(dates).year - 1900) // 10"
      ],
      "metadata": {
        "id": "pKEILUFsEk6W"
      },
      "execution_count": 10,
      "outputs": []
    },
    {
      "cell_type": "code",
      "source": [
        "download(\"https://github.com/AllenDowney/ThinkStats2/raw/master/code/2002FemResp.dct\")\n",
        "download(\"https://github.com/AllenDowney/ThinkStats2/raw/master/code/2002FemResp.dat.gz\")"
      ],
      "metadata": {
        "id": "f5Za1wyVEnkT"
      },
      "execution_count": 11,
      "outputs": []
    },
    {
      "cell_type": "code",
      "source": [
        "resp6 = nsfg.ReadFemResp()"
      ],
      "metadata": {
        "id": "HvV33jd_EqQM"
      },
      "execution_count": 12,
      "outputs": []
    },
    {
      "cell_type": "code",
      "source": [
        "download(\"https://github.com/AllenDowney/ThinkStats2/raw/master/code/1995FemRespData.dat.gz\")\n",
        "download(\"https://github.com/AllenDowney/ThinkStats2/raw/master/code/2006_2010_FemRespSetup.dct\")\n",
        "download(\"https://github.com/AllenDowney/ThinkStats2/raw/master/code/2006_2010_FemResp.dat.gz\")"
      ],
      "metadata": {
        "id": "ptfZ7qZzFgP_"
      },
      "execution_count": 13,
      "outputs": []
    },
    {
      "cell_type": "code",
      "source": [
        "resp5 = survival.ReadFemResp1995()\n",
        "resp6 = survival.ReadFemResp2002()\n",
        "resp7 = survival.ReadFemResp2010()"
      ],
      "metadata": {
        "id": "rttLHWdVFvHN"
      },
      "execution_count": 14,
      "outputs": []
    },
    {
      "cell_type": "code",
      "source": [
        "resps = [resp5, resp6, resp7]"
      ],
      "metadata": {
        "id": "S27BIICDF5ha"
      },
      "execution_count": 15,
      "outputs": []
    },
    {
      "cell_type": "code",
      "source": [
        "CleanData(resp6)\n",
        "married6 = resp6[resp6.evrmarry == 1]\n",
        "\n",
        "CleanData(resp7)\n",
        "married7 = resp7[resp7.evrmarry == 1]"
      ],
      "metadata": {
        "id": "ttpIaNA_EsNi"
      },
      "execution_count": 16,
      "outputs": []
    },
    {
      "cell_type": "code",
      "source": [
        "pd.Series(dtype='float64')"
      ],
      "metadata": {
        "colab": {
          "base_uri": "https://localhost:8080/"
        },
        "id": "8Kc7ixhRIT0m",
        "outputId": "34890edd-5a80-47e5-f956-ae7d4bb7edb3"
      },
      "execution_count": 31,
      "outputs": [
        {
          "output_type": "execute_result",
          "data": {
            "text/plain": [
              "Series([], dtype: float64)"
            ]
          },
          "metadata": {},
          "execution_count": 31
        }
      ]
    },
    {
      "cell_type": "code",
      "source": [
        "def ResampleDivorceCurve(resps):\n",
        "    for _ in range(11):\n",
        "        samples = [thinkstats2.ResampleRowsWeighted(resp) for resp in resps]\n",
        "        sample = pd.concat(samples, ignore_index=True)\n",
        "        PlotDivorceCurveByDecade(sample, color=\"#225EA8\", alpha=0.1)\n",
        "\n",
        "    thinkplot.Show(xlabel=\"years\", axis=[0, 28, 0, 1])"
      ],
      "metadata": {
        "id": "7U0YZGtKEufj"
      },
      "execution_count": 32,
      "outputs": []
    },
    {
      "cell_type": "code",
      "source": [
        "def ResampleDivorceCurveByDecade(resps):\n",
        "    for i in range(41):\n",
        "        samples = [thinkstats2.ResampleRowsWeighted(resp) for resp in resps]\n",
        "        sample = pd.concat(samples, ignore_index=True)\n",
        "        groups = sample.groupby(\"decade\")\n",
        "        if i == 0:\n",
        "            survival.AddLabelsByDecade(groups, alpha=0.7)\n",
        "\n",
        "        EstimateSurvivalByDecade(groups, alpha=0.1)\n",
        "\n",
        "    thinkplot.Config(xlabel=\"Years\", ylabel=\"Fraction undivorced\", axis=[0, 28, 0, 1])"
      ],
      "metadata": {
        "id": "B8pKOKoUExUD"
      },
      "execution_count": 33,
      "outputs": []
    },
    {
      "cell_type": "code",
      "source": [
        "def EstimateSurvivalByDecade(groups, **options):\n",
        "    thinkplot.PrePlot(len(groups))\n",
        "    for name, group in groups:\n",
        "        _, sf = EstimateSurvival(group)\n",
        "        thinkplot.Plot(sf, **options)"
      ],
      "metadata": {
        "id": "haDcVaBGEzYD"
      },
      "execution_count": 34,
      "outputs": []
    },
    {
      "cell_type": "code",
      "source": [
        "def EstimateSurvival(resp):\n",
        "    complete = resp[resp.notdivorced == 0].duration.dropna()\n",
        "    ongoing = resp[resp.notdivorced == 1].durationsofar.dropna()\n",
        "\n",
        "    hf = survival.EstimateHazardFunction(complete, ongoing)\n",
        "    sf = hf.MakeSurvival()\n",
        "\n",
        "    return hf, sf"
      ],
      "metadata": {
        "id": "QJiqZhRKE1mt"
      },
      "execution_count": 35,
      "outputs": []
    },
    {
      "cell_type": "code",
      "source": [
        "ResampleDivorceCurveByDecade([married6, married7])"
      ],
      "metadata": {
        "colab": {
          "base_uri": "https://localhost:8080/",
          "height": 1000
        },
        "id": "asKsVLowE5ls",
        "outputId": "f7189327-505e-4b9e-ea26-338267764d77"
      },
      "execution_count": 36,
      "outputs": [
        {
          "output_type": "stream",
          "name": "stderr",
          "text": [
            "/content/survival.py:300: FutureWarning: The default dtype for empty Series will be 'object' instead of 'float64' in a future version. Specify a dtype explicitly to silence this warning.\n",
            "  lams = pd.Series(index=ts)\n",
            "/content/survival.py:300: FutureWarning: The default dtype for empty Series will be 'object' instead of 'float64' in a future version. Specify a dtype explicitly to silence this warning.\n",
            "  lams = pd.Series(index=ts)\n",
            "/content/survival.py:300: FutureWarning: The default dtype for empty Series will be 'object' instead of 'float64' in a future version. Specify a dtype explicitly to silence this warning.\n",
            "  lams = pd.Series(index=ts)\n",
            "/content/survival.py:300: FutureWarning: The default dtype for empty Series will be 'object' instead of 'float64' in a future version. Specify a dtype explicitly to silence this warning.\n",
            "  lams = pd.Series(index=ts)\n",
            "/content/survival.py:300: FutureWarning: The default dtype for empty Series will be 'object' instead of 'float64' in a future version. Specify a dtype explicitly to silence this warning.\n",
            "  lams = pd.Series(index=ts)\n",
            "/content/survival.py:300: FutureWarning: The default dtype for empty Series will be 'object' instead of 'float64' in a future version. Specify a dtype explicitly to silence this warning.\n",
            "  lams = pd.Series(index=ts)\n",
            "/content/survival.py:300: FutureWarning: The default dtype for empty Series will be 'object' instead of 'float64' in a future version. Specify a dtype explicitly to silence this warning.\n",
            "  lams = pd.Series(index=ts)\n",
            "/content/survival.py:300: FutureWarning: The default dtype for empty Series will be 'object' instead of 'float64' in a future version. Specify a dtype explicitly to silence this warning.\n",
            "  lams = pd.Series(index=ts)\n",
            "/content/survival.py:300: FutureWarning: The default dtype for empty Series will be 'object' instead of 'float64' in a future version. Specify a dtype explicitly to silence this warning.\n",
            "  lams = pd.Series(index=ts)\n",
            "/content/survival.py:300: FutureWarning: The default dtype for empty Series will be 'object' instead of 'float64' in a future version. Specify a dtype explicitly to silence this warning.\n",
            "  lams = pd.Series(index=ts)\n",
            "/content/survival.py:300: FutureWarning: The default dtype for empty Series will be 'object' instead of 'float64' in a future version. Specify a dtype explicitly to silence this warning.\n",
            "  lams = pd.Series(index=ts)\n",
            "/content/survival.py:300: FutureWarning: The default dtype for empty Series will be 'object' instead of 'float64' in a future version. Specify a dtype explicitly to silence this warning.\n",
            "  lams = pd.Series(index=ts)\n",
            "/content/survival.py:300: FutureWarning: The default dtype for empty Series will be 'object' instead of 'float64' in a future version. Specify a dtype explicitly to silence this warning.\n",
            "  lams = pd.Series(index=ts)\n",
            "/content/survival.py:300: FutureWarning: The default dtype for empty Series will be 'object' instead of 'float64' in a future version. Specify a dtype explicitly to silence this warning.\n",
            "  lams = pd.Series(index=ts)\n",
            "/content/survival.py:300: FutureWarning: The default dtype for empty Series will be 'object' instead of 'float64' in a future version. Specify a dtype explicitly to silence this warning.\n",
            "  lams = pd.Series(index=ts)\n",
            "/content/survival.py:300: FutureWarning: The default dtype for empty Series will be 'object' instead of 'float64' in a future version. Specify a dtype explicitly to silence this warning.\n",
            "  lams = pd.Series(index=ts)\n",
            "/content/survival.py:300: FutureWarning: The default dtype for empty Series will be 'object' instead of 'float64' in a future version. Specify a dtype explicitly to silence this warning.\n",
            "  lams = pd.Series(index=ts)\n",
            "/content/survival.py:300: FutureWarning: The default dtype for empty Series will be 'object' instead of 'float64' in a future version. Specify a dtype explicitly to silence this warning.\n",
            "  lams = pd.Series(index=ts)\n",
            "/content/survival.py:300: FutureWarning: The default dtype for empty Series will be 'object' instead of 'float64' in a future version. Specify a dtype explicitly to silence this warning.\n",
            "  lams = pd.Series(index=ts)\n",
            "/content/survival.py:300: FutureWarning: The default dtype for empty Series will be 'object' instead of 'float64' in a future version. Specify a dtype explicitly to silence this warning.\n",
            "  lams = pd.Series(index=ts)\n",
            "/content/survival.py:300: FutureWarning: The default dtype for empty Series will be 'object' instead of 'float64' in a future version. Specify a dtype explicitly to silence this warning.\n",
            "  lams = pd.Series(index=ts)\n",
            "/content/survival.py:300: FutureWarning: The default dtype for empty Series will be 'object' instead of 'float64' in a future version. Specify a dtype explicitly to silence this warning.\n",
            "  lams = pd.Series(index=ts)\n",
            "/content/survival.py:300: FutureWarning: The default dtype for empty Series will be 'object' instead of 'float64' in a future version. Specify a dtype explicitly to silence this warning.\n",
            "  lams = pd.Series(index=ts)\n",
            "/content/survival.py:300: FutureWarning: The default dtype for empty Series will be 'object' instead of 'float64' in a future version. Specify a dtype explicitly to silence this warning.\n",
            "  lams = pd.Series(index=ts)\n",
            "/content/survival.py:300: FutureWarning: The default dtype for empty Series will be 'object' instead of 'float64' in a future version. Specify a dtype explicitly to silence this warning.\n",
            "  lams = pd.Series(index=ts)\n",
            "/content/survival.py:300: FutureWarning: The default dtype for empty Series will be 'object' instead of 'float64' in a future version. Specify a dtype explicitly to silence this warning.\n",
            "  lams = pd.Series(index=ts)\n",
            "/content/survival.py:300: FutureWarning: The default dtype for empty Series will be 'object' instead of 'float64' in a future version. Specify a dtype explicitly to silence this warning.\n",
            "  lams = pd.Series(index=ts)\n",
            "/content/survival.py:300: FutureWarning: The default dtype for empty Series will be 'object' instead of 'float64' in a future version. Specify a dtype explicitly to silence this warning.\n",
            "  lams = pd.Series(index=ts)\n",
            "/content/survival.py:300: FutureWarning: The default dtype for empty Series will be 'object' instead of 'float64' in a future version. Specify a dtype explicitly to silence this warning.\n",
            "  lams = pd.Series(index=ts)\n",
            "/content/survival.py:300: FutureWarning: The default dtype for empty Series will be 'object' instead of 'float64' in a future version. Specify a dtype explicitly to silence this warning.\n",
            "  lams = pd.Series(index=ts)\n",
            "/content/survival.py:300: FutureWarning: The default dtype for empty Series will be 'object' instead of 'float64' in a future version. Specify a dtype explicitly to silence this warning.\n",
            "  lams = pd.Series(index=ts)\n",
            "/content/survival.py:300: FutureWarning: The default dtype for empty Series will be 'object' instead of 'float64' in a future version. Specify a dtype explicitly to silence this warning.\n",
            "  lams = pd.Series(index=ts)\n",
            "/content/survival.py:300: FutureWarning: The default dtype for empty Series will be 'object' instead of 'float64' in a future version. Specify a dtype explicitly to silence this warning.\n",
            "  lams = pd.Series(index=ts)\n",
            "/content/survival.py:300: FutureWarning: The default dtype for empty Series will be 'object' instead of 'float64' in a future version. Specify a dtype explicitly to silence this warning.\n",
            "  lams = pd.Series(index=ts)\n",
            "/content/survival.py:300: FutureWarning: The default dtype for empty Series will be 'object' instead of 'float64' in a future version. Specify a dtype explicitly to silence this warning.\n",
            "  lams = pd.Series(index=ts)\n",
            "/content/survival.py:300: FutureWarning: The default dtype for empty Series will be 'object' instead of 'float64' in a future version. Specify a dtype explicitly to silence this warning.\n",
            "  lams = pd.Series(index=ts)\n",
            "/content/survival.py:300: FutureWarning: The default dtype for empty Series will be 'object' instead of 'float64' in a future version. Specify a dtype explicitly to silence this warning.\n",
            "  lams = pd.Series(index=ts)\n",
            "/content/survival.py:300: FutureWarning: The default dtype for empty Series will be 'object' instead of 'float64' in a future version. Specify a dtype explicitly to silence this warning.\n",
            "  lams = pd.Series(index=ts)\n",
            "/content/survival.py:300: FutureWarning: The default dtype for empty Series will be 'object' instead of 'float64' in a future version. Specify a dtype explicitly to silence this warning.\n",
            "  lams = pd.Series(index=ts)\n",
            "/content/survival.py:300: FutureWarning: The default dtype for empty Series will be 'object' instead of 'float64' in a future version. Specify a dtype explicitly to silence this warning.\n",
            "  lams = pd.Series(index=ts)\n",
            "/content/survival.py:300: FutureWarning: The default dtype for empty Series will be 'object' instead of 'float64' in a future version. Specify a dtype explicitly to silence this warning.\n",
            "  lams = pd.Series(index=ts)\n",
            "/content/survival.py:300: FutureWarning: The default dtype for empty Series will be 'object' instead of 'float64' in a future version. Specify a dtype explicitly to silence this warning.\n",
            "  lams = pd.Series(index=ts)\n",
            "/content/survival.py:300: FutureWarning: The default dtype for empty Series will be 'object' instead of 'float64' in a future version. Specify a dtype explicitly to silence this warning.\n",
            "  lams = pd.Series(index=ts)\n",
            "/content/survival.py:300: FutureWarning: The default dtype for empty Series will be 'object' instead of 'float64' in a future version. Specify a dtype explicitly to silence this warning.\n",
            "  lams = pd.Series(index=ts)\n",
            "/content/survival.py:300: FutureWarning: The default dtype for empty Series will be 'object' instead of 'float64' in a future version. Specify a dtype explicitly to silence this warning.\n",
            "  lams = pd.Series(index=ts)\n",
            "/content/survival.py:300: FutureWarning: The default dtype for empty Series will be 'object' instead of 'float64' in a future version. Specify a dtype explicitly to silence this warning.\n",
            "  lams = pd.Series(index=ts)\n",
            "/content/survival.py:300: FutureWarning: The default dtype for empty Series will be 'object' instead of 'float64' in a future version. Specify a dtype explicitly to silence this warning.\n",
            "  lams = pd.Series(index=ts)\n",
            "/content/survival.py:300: FutureWarning: The default dtype for empty Series will be 'object' instead of 'float64' in a future version. Specify a dtype explicitly to silence this warning.\n",
            "  lams = pd.Series(index=ts)\n",
            "/content/survival.py:300: FutureWarning: The default dtype for empty Series will be 'object' instead of 'float64' in a future version. Specify a dtype explicitly to silence this warning.\n",
            "  lams = pd.Series(index=ts)\n",
            "/content/survival.py:300: FutureWarning: The default dtype for empty Series will be 'object' instead of 'float64' in a future version. Specify a dtype explicitly to silence this warning.\n",
            "  lams = pd.Series(index=ts)\n",
            "/content/survival.py:300: FutureWarning: The default dtype for empty Series will be 'object' instead of 'float64' in a future version. Specify a dtype explicitly to silence this warning.\n",
            "  lams = pd.Series(index=ts)\n",
            "/content/survival.py:300: FutureWarning: The default dtype for empty Series will be 'object' instead of 'float64' in a future version. Specify a dtype explicitly to silence this warning.\n",
            "  lams = pd.Series(index=ts)\n",
            "/content/survival.py:300: FutureWarning: The default dtype for empty Series will be 'object' instead of 'float64' in a future version. Specify a dtype explicitly to silence this warning.\n",
            "  lams = pd.Series(index=ts)\n",
            "/content/survival.py:300: FutureWarning: The default dtype for empty Series will be 'object' instead of 'float64' in a future version. Specify a dtype explicitly to silence this warning.\n",
            "  lams = pd.Series(index=ts)\n",
            "/content/survival.py:300: FutureWarning: The default dtype for empty Series will be 'object' instead of 'float64' in a future version. Specify a dtype explicitly to silence this warning.\n",
            "  lams = pd.Series(index=ts)\n",
            "/content/survival.py:300: FutureWarning: The default dtype for empty Series will be 'object' instead of 'float64' in a future version. Specify a dtype explicitly to silence this warning.\n",
            "  lams = pd.Series(index=ts)\n",
            "/content/survival.py:300: FutureWarning: The default dtype for empty Series will be 'object' instead of 'float64' in a future version. Specify a dtype explicitly to silence this warning.\n",
            "  lams = pd.Series(index=ts)\n",
            "/content/survival.py:300: FutureWarning: The default dtype for empty Series will be 'object' instead of 'float64' in a future version. Specify a dtype explicitly to silence this warning.\n",
            "  lams = pd.Series(index=ts)\n",
            "/content/survival.py:300: FutureWarning: The default dtype for empty Series will be 'object' instead of 'float64' in a future version. Specify a dtype explicitly to silence this warning.\n",
            "  lams = pd.Series(index=ts)\n",
            "/content/survival.py:300: FutureWarning: The default dtype for empty Series will be 'object' instead of 'float64' in a future version. Specify a dtype explicitly to silence this warning.\n",
            "  lams = pd.Series(index=ts)\n",
            "/content/survival.py:300: FutureWarning: The default dtype for empty Series will be 'object' instead of 'float64' in a future version. Specify a dtype explicitly to silence this warning.\n",
            "  lams = pd.Series(index=ts)\n",
            "/content/survival.py:300: FutureWarning: The default dtype for empty Series will be 'object' instead of 'float64' in a future version. Specify a dtype explicitly to silence this warning.\n",
            "  lams = pd.Series(index=ts)\n",
            "/content/survival.py:300: FutureWarning: The default dtype for empty Series will be 'object' instead of 'float64' in a future version. Specify a dtype explicitly to silence this warning.\n",
            "  lams = pd.Series(index=ts)\n",
            "/content/survival.py:300: FutureWarning: The default dtype for empty Series will be 'object' instead of 'float64' in a future version. Specify a dtype explicitly to silence this warning.\n",
            "  lams = pd.Series(index=ts)\n",
            "/content/survival.py:300: FutureWarning: The default dtype for empty Series will be 'object' instead of 'float64' in a future version. Specify a dtype explicitly to silence this warning.\n",
            "  lams = pd.Series(index=ts)\n",
            "/content/survival.py:300: FutureWarning: The default dtype for empty Series will be 'object' instead of 'float64' in a future version. Specify a dtype explicitly to silence this warning.\n",
            "  lams = pd.Series(index=ts)\n",
            "/content/survival.py:300: FutureWarning: The default dtype for empty Series will be 'object' instead of 'float64' in a future version. Specify a dtype explicitly to silence this warning.\n",
            "  lams = pd.Series(index=ts)\n",
            "/content/survival.py:300: FutureWarning: The default dtype for empty Series will be 'object' instead of 'float64' in a future version. Specify a dtype explicitly to silence this warning.\n",
            "  lams = pd.Series(index=ts)\n",
            "/content/survival.py:300: FutureWarning: The default dtype for empty Series will be 'object' instead of 'float64' in a future version. Specify a dtype explicitly to silence this warning.\n",
            "  lams = pd.Series(index=ts)\n",
            "/content/survival.py:300: FutureWarning: The default dtype for empty Series will be 'object' instead of 'float64' in a future version. Specify a dtype explicitly to silence this warning.\n",
            "  lams = pd.Series(index=ts)\n",
            "/content/survival.py:300: FutureWarning: The default dtype for empty Series will be 'object' instead of 'float64' in a future version. Specify a dtype explicitly to silence this warning.\n",
            "  lams = pd.Series(index=ts)\n",
            "/content/survival.py:300: FutureWarning: The default dtype for empty Series will be 'object' instead of 'float64' in a future version. Specify a dtype explicitly to silence this warning.\n",
            "  lams = pd.Series(index=ts)\n",
            "/content/survival.py:300: FutureWarning: The default dtype for empty Series will be 'object' instead of 'float64' in a future version. Specify a dtype explicitly to silence this warning.\n",
            "  lams = pd.Series(index=ts)\n",
            "/content/survival.py:300: FutureWarning: The default dtype for empty Series will be 'object' instead of 'float64' in a future version. Specify a dtype explicitly to silence this warning.\n",
            "  lams = pd.Series(index=ts)\n",
            "/content/survival.py:300: FutureWarning: The default dtype for empty Series will be 'object' instead of 'float64' in a future version. Specify a dtype explicitly to silence this warning.\n",
            "  lams = pd.Series(index=ts)\n",
            "/content/survival.py:300: FutureWarning: The default dtype for empty Series will be 'object' instead of 'float64' in a future version. Specify a dtype explicitly to silence this warning.\n",
            "  lams = pd.Series(index=ts)\n",
            "/content/survival.py:300: FutureWarning: The default dtype for empty Series will be 'object' instead of 'float64' in a future version. Specify a dtype explicitly to silence this warning.\n",
            "  lams = pd.Series(index=ts)\n",
            "/content/survival.py:300: FutureWarning: The default dtype for empty Series will be 'object' instead of 'float64' in a future version. Specify a dtype explicitly to silence this warning.\n",
            "  lams = pd.Series(index=ts)\n",
            "/content/survival.py:300: FutureWarning: The default dtype for empty Series will be 'object' instead of 'float64' in a future version. Specify a dtype explicitly to silence this warning.\n",
            "  lams = pd.Series(index=ts)\n",
            "/content/survival.py:300: FutureWarning: The default dtype for empty Series will be 'object' instead of 'float64' in a future version. Specify a dtype explicitly to silence this warning.\n",
            "  lams = pd.Series(index=ts)\n",
            "/content/survival.py:300: FutureWarning: The default dtype for empty Series will be 'object' instead of 'float64' in a future version. Specify a dtype explicitly to silence this warning.\n",
            "  lams = pd.Series(index=ts)\n",
            "/content/survival.py:300: FutureWarning: The default dtype for empty Series will be 'object' instead of 'float64' in a future version. Specify a dtype explicitly to silence this warning.\n",
            "  lams = pd.Series(index=ts)\n",
            "/content/survival.py:300: FutureWarning: The default dtype for empty Series will be 'object' instead of 'float64' in a future version. Specify a dtype explicitly to silence this warning.\n",
            "  lams = pd.Series(index=ts)\n",
            "/content/survival.py:300: FutureWarning: The default dtype for empty Series will be 'object' instead of 'float64' in a future version. Specify a dtype explicitly to silence this warning.\n",
            "  lams = pd.Series(index=ts)\n",
            "/content/survival.py:300: FutureWarning: The default dtype for empty Series will be 'object' instead of 'float64' in a future version. Specify a dtype explicitly to silence this warning.\n",
            "  lams = pd.Series(index=ts)\n",
            "/content/survival.py:300: FutureWarning: The default dtype for empty Series will be 'object' instead of 'float64' in a future version. Specify a dtype explicitly to silence this warning.\n",
            "  lams = pd.Series(index=ts)\n",
            "/content/survival.py:300: FutureWarning: The default dtype for empty Series will be 'object' instead of 'float64' in a future version. Specify a dtype explicitly to silence this warning.\n",
            "  lams = pd.Series(index=ts)\n",
            "/content/survival.py:300: FutureWarning: The default dtype for empty Series will be 'object' instead of 'float64' in a future version. Specify a dtype explicitly to silence this warning.\n",
            "  lams = pd.Series(index=ts)\n",
            "/content/survival.py:300: FutureWarning: The default dtype for empty Series will be 'object' instead of 'float64' in a future version. Specify a dtype explicitly to silence this warning.\n",
            "  lams = pd.Series(index=ts)\n",
            "/content/survival.py:300: FutureWarning: The default dtype for empty Series will be 'object' instead of 'float64' in a future version. Specify a dtype explicitly to silence this warning.\n",
            "  lams = pd.Series(index=ts)\n",
            "/content/survival.py:300: FutureWarning: The default dtype for empty Series will be 'object' instead of 'float64' in a future version. Specify a dtype explicitly to silence this warning.\n",
            "  lams = pd.Series(index=ts)\n",
            "/content/survival.py:300: FutureWarning: The default dtype for empty Series will be 'object' instead of 'float64' in a future version. Specify a dtype explicitly to silence this warning.\n",
            "  lams = pd.Series(index=ts)\n",
            "/content/survival.py:300: FutureWarning: The default dtype for empty Series will be 'object' instead of 'float64' in a future version. Specify a dtype explicitly to silence this warning.\n",
            "  lams = pd.Series(index=ts)\n",
            "/content/survival.py:300: FutureWarning: The default dtype for empty Series will be 'object' instead of 'float64' in a future version. Specify a dtype explicitly to silence this warning.\n",
            "  lams = pd.Series(index=ts)\n",
            "/content/survival.py:300: FutureWarning: The default dtype for empty Series will be 'object' instead of 'float64' in a future version. Specify a dtype explicitly to silence this warning.\n",
            "  lams = pd.Series(index=ts)\n",
            "/content/survival.py:300: FutureWarning: The default dtype for empty Series will be 'object' instead of 'float64' in a future version. Specify a dtype explicitly to silence this warning.\n",
            "  lams = pd.Series(index=ts)\n",
            "/content/survival.py:300: FutureWarning: The default dtype for empty Series will be 'object' instead of 'float64' in a future version. Specify a dtype explicitly to silence this warning.\n",
            "  lams = pd.Series(index=ts)\n",
            "/content/survival.py:300: FutureWarning: The default dtype for empty Series will be 'object' instead of 'float64' in a future version. Specify a dtype explicitly to silence this warning.\n",
            "  lams = pd.Series(index=ts)\n",
            "/content/survival.py:300: FutureWarning: The default dtype for empty Series will be 'object' instead of 'float64' in a future version. Specify a dtype explicitly to silence this warning.\n",
            "  lams = pd.Series(index=ts)\n",
            "/content/survival.py:300: FutureWarning: The default dtype for empty Series will be 'object' instead of 'float64' in a future version. Specify a dtype explicitly to silence this warning.\n",
            "  lams = pd.Series(index=ts)\n",
            "/content/survival.py:300: FutureWarning: The default dtype for empty Series will be 'object' instead of 'float64' in a future version. Specify a dtype explicitly to silence this warning.\n",
            "  lams = pd.Series(index=ts)\n",
            "/content/survival.py:300: FutureWarning: The default dtype for empty Series will be 'object' instead of 'float64' in a future version. Specify a dtype explicitly to silence this warning.\n",
            "  lams = pd.Series(index=ts)\n",
            "/content/survival.py:300: FutureWarning: The default dtype for empty Series will be 'object' instead of 'float64' in a future version. Specify a dtype explicitly to silence this warning.\n",
            "  lams = pd.Series(index=ts)\n",
            "/content/survival.py:300: FutureWarning: The default dtype for empty Series will be 'object' instead of 'float64' in a future version. Specify a dtype explicitly to silence this warning.\n",
            "  lams = pd.Series(index=ts)\n",
            "/content/survival.py:300: FutureWarning: The default dtype for empty Series will be 'object' instead of 'float64' in a future version. Specify a dtype explicitly to silence this warning.\n",
            "  lams = pd.Series(index=ts)\n",
            "/content/survival.py:300: FutureWarning: The default dtype for empty Series will be 'object' instead of 'float64' in a future version. Specify a dtype explicitly to silence this warning.\n",
            "  lams = pd.Series(index=ts)\n",
            "/content/survival.py:300: FutureWarning: The default dtype for empty Series will be 'object' instead of 'float64' in a future version. Specify a dtype explicitly to silence this warning.\n",
            "  lams = pd.Series(index=ts)\n",
            "/content/survival.py:300: FutureWarning: The default dtype for empty Series will be 'object' instead of 'float64' in a future version. Specify a dtype explicitly to silence this warning.\n",
            "  lams = pd.Series(index=ts)\n",
            "/content/survival.py:300: FutureWarning: The default dtype for empty Series will be 'object' instead of 'float64' in a future version. Specify a dtype explicitly to silence this warning.\n",
            "  lams = pd.Series(index=ts)\n",
            "/content/survival.py:300: FutureWarning: The default dtype for empty Series will be 'object' instead of 'float64' in a future version. Specify a dtype explicitly to silence this warning.\n",
            "  lams = pd.Series(index=ts)\n",
            "/content/survival.py:300: FutureWarning: The default dtype for empty Series will be 'object' instead of 'float64' in a future version. Specify a dtype explicitly to silence this warning.\n",
            "  lams = pd.Series(index=ts)\n",
            "/content/survival.py:300: FutureWarning: The default dtype for empty Series will be 'object' instead of 'float64' in a future version. Specify a dtype explicitly to silence this warning.\n",
            "  lams = pd.Series(index=ts)\n",
            "/content/survival.py:300: FutureWarning: The default dtype for empty Series will be 'object' instead of 'float64' in a future version. Specify a dtype explicitly to silence this warning.\n",
            "  lams = pd.Series(index=ts)\n",
            "/content/survival.py:300: FutureWarning: The default dtype for empty Series will be 'object' instead of 'float64' in a future version. Specify a dtype explicitly to silence this warning.\n",
            "  lams = pd.Series(index=ts)\n",
            "/content/survival.py:300: FutureWarning: The default dtype for empty Series will be 'object' instead of 'float64' in a future version. Specify a dtype explicitly to silence this warning.\n",
            "  lams = pd.Series(index=ts)\n",
            "/content/survival.py:300: FutureWarning: The default dtype for empty Series will be 'object' instead of 'float64' in a future version. Specify a dtype explicitly to silence this warning.\n",
            "  lams = pd.Series(index=ts)\n",
            "/content/survival.py:300: FutureWarning: The default dtype for empty Series will be 'object' instead of 'float64' in a future version. Specify a dtype explicitly to silence this warning.\n",
            "  lams = pd.Series(index=ts)\n",
            "/content/survival.py:300: FutureWarning: The default dtype for empty Series will be 'object' instead of 'float64' in a future version. Specify a dtype explicitly to silence this warning.\n",
            "  lams = pd.Series(index=ts)\n",
            "/content/survival.py:300: FutureWarning: The default dtype for empty Series will be 'object' instead of 'float64' in a future version. Specify a dtype explicitly to silence this warning.\n",
            "  lams = pd.Series(index=ts)\n",
            "/content/survival.py:300: FutureWarning: The default dtype for empty Series will be 'object' instead of 'float64' in a future version. Specify a dtype explicitly to silence this warning.\n",
            "  lams = pd.Series(index=ts)\n",
            "/content/survival.py:300: FutureWarning: The default dtype for empty Series will be 'object' instead of 'float64' in a future version. Specify a dtype explicitly to silence this warning.\n",
            "  lams = pd.Series(index=ts)\n",
            "/content/survival.py:300: FutureWarning: The default dtype for empty Series will be 'object' instead of 'float64' in a future version. Specify a dtype explicitly to silence this warning.\n",
            "  lams = pd.Series(index=ts)\n",
            "/content/survival.py:300: FutureWarning: The default dtype for empty Series will be 'object' instead of 'float64' in a future version. Specify a dtype explicitly to silence this warning.\n",
            "  lams = pd.Series(index=ts)\n",
            "/content/survival.py:300: FutureWarning: The default dtype for empty Series will be 'object' instead of 'float64' in a future version. Specify a dtype explicitly to silence this warning.\n",
            "  lams = pd.Series(index=ts)\n",
            "/content/survival.py:300: FutureWarning: The default dtype for empty Series will be 'object' instead of 'float64' in a future version. Specify a dtype explicitly to silence this warning.\n",
            "  lams = pd.Series(index=ts)\n",
            "/content/survival.py:300: FutureWarning: The default dtype for empty Series will be 'object' instead of 'float64' in a future version. Specify a dtype explicitly to silence this warning.\n",
            "  lams = pd.Series(index=ts)\n",
            "/content/survival.py:300: FutureWarning: The default dtype for empty Series will be 'object' instead of 'float64' in a future version. Specify a dtype explicitly to silence this warning.\n",
            "  lams = pd.Series(index=ts)\n",
            "/content/survival.py:300: FutureWarning: The default dtype for empty Series will be 'object' instead of 'float64' in a future version. Specify a dtype explicitly to silence this warning.\n",
            "  lams = pd.Series(index=ts)\n",
            "/content/survival.py:300: FutureWarning: The default dtype for empty Series will be 'object' instead of 'float64' in a future version. Specify a dtype explicitly to silence this warning.\n",
            "  lams = pd.Series(index=ts)\n",
            "/content/survival.py:300: FutureWarning: The default dtype for empty Series will be 'object' instead of 'float64' in a future version. Specify a dtype explicitly to silence this warning.\n",
            "  lams = pd.Series(index=ts)\n",
            "/content/survival.py:300: FutureWarning: The default dtype for empty Series will be 'object' instead of 'float64' in a future version. Specify a dtype explicitly to silence this warning.\n",
            "  lams = pd.Series(index=ts)\n",
            "/content/survival.py:300: FutureWarning: The default dtype for empty Series will be 'object' instead of 'float64' in a future version. Specify a dtype explicitly to silence this warning.\n",
            "  lams = pd.Series(index=ts)\n",
            "/content/survival.py:300: FutureWarning: The default dtype for empty Series will be 'object' instead of 'float64' in a future version. Specify a dtype explicitly to silence this warning.\n",
            "  lams = pd.Series(index=ts)\n",
            "/content/survival.py:300: FutureWarning: The default dtype for empty Series will be 'object' instead of 'float64' in a future version. Specify a dtype explicitly to silence this warning.\n",
            "  lams = pd.Series(index=ts)\n",
            "/content/survival.py:300: FutureWarning: The default dtype for empty Series will be 'object' instead of 'float64' in a future version. Specify a dtype explicitly to silence this warning.\n",
            "  lams = pd.Series(index=ts)\n",
            "/content/survival.py:300: FutureWarning: The default dtype for empty Series will be 'object' instead of 'float64' in a future version. Specify a dtype explicitly to silence this warning.\n",
            "  lams = pd.Series(index=ts)\n",
            "/content/survival.py:300: FutureWarning: The default dtype for empty Series will be 'object' instead of 'float64' in a future version. Specify a dtype explicitly to silence this warning.\n",
            "  lams = pd.Series(index=ts)\n",
            "/content/survival.py:300: FutureWarning: The default dtype for empty Series will be 'object' instead of 'float64' in a future version. Specify a dtype explicitly to silence this warning.\n",
            "  lams = pd.Series(index=ts)\n",
            "/content/survival.py:300: FutureWarning: The default dtype for empty Series will be 'object' instead of 'float64' in a future version. Specify a dtype explicitly to silence this warning.\n",
            "  lams = pd.Series(index=ts)\n",
            "/content/survival.py:300: FutureWarning: The default dtype for empty Series will be 'object' instead of 'float64' in a future version. Specify a dtype explicitly to silence this warning.\n",
            "  lams = pd.Series(index=ts)\n",
            "/content/survival.py:300: FutureWarning: The default dtype for empty Series will be 'object' instead of 'float64' in a future version. Specify a dtype explicitly to silence this warning.\n",
            "  lams = pd.Series(index=ts)\n",
            "/content/survival.py:300: FutureWarning: The default dtype for empty Series will be 'object' instead of 'float64' in a future version. Specify a dtype explicitly to silence this warning.\n",
            "  lams = pd.Series(index=ts)\n",
            "/content/survival.py:300: FutureWarning: The default dtype for empty Series will be 'object' instead of 'float64' in a future version. Specify a dtype explicitly to silence this warning.\n",
            "  lams = pd.Series(index=ts)\n",
            "/content/survival.py:300: FutureWarning: The default dtype for empty Series will be 'object' instead of 'float64' in a future version. Specify a dtype explicitly to silence this warning.\n",
            "  lams = pd.Series(index=ts)\n",
            "/content/survival.py:300: FutureWarning: The default dtype for empty Series will be 'object' instead of 'float64' in a future version. Specify a dtype explicitly to silence this warning.\n",
            "  lams = pd.Series(index=ts)\n",
            "/content/survival.py:300: FutureWarning: The default dtype for empty Series will be 'object' instead of 'float64' in a future version. Specify a dtype explicitly to silence this warning.\n",
            "  lams = pd.Series(index=ts)\n",
            "/content/survival.py:300: FutureWarning: The default dtype for empty Series will be 'object' instead of 'float64' in a future version. Specify a dtype explicitly to silence this warning.\n",
            "  lams = pd.Series(index=ts)\n",
            "/content/survival.py:300: FutureWarning: The default dtype for empty Series will be 'object' instead of 'float64' in a future version. Specify a dtype explicitly to silence this warning.\n",
            "  lams = pd.Series(index=ts)\n",
            "/content/survival.py:300: FutureWarning: The default dtype for empty Series will be 'object' instead of 'float64' in a future version. Specify a dtype explicitly to silence this warning.\n",
            "  lams = pd.Series(index=ts)\n",
            "/content/survival.py:300: FutureWarning: The default dtype for empty Series will be 'object' instead of 'float64' in a future version. Specify a dtype explicitly to silence this warning.\n",
            "  lams = pd.Series(index=ts)\n",
            "/content/survival.py:300: FutureWarning: The default dtype for empty Series will be 'object' instead of 'float64' in a future version. Specify a dtype explicitly to silence this warning.\n",
            "  lams = pd.Series(index=ts)\n",
            "/content/survival.py:300: FutureWarning: The default dtype for empty Series will be 'object' instead of 'float64' in a future version. Specify a dtype explicitly to silence this warning.\n",
            "  lams = pd.Series(index=ts)\n",
            "/content/survival.py:300: FutureWarning: The default dtype for empty Series will be 'object' instead of 'float64' in a future version. Specify a dtype explicitly to silence this warning.\n",
            "  lams = pd.Series(index=ts)\n",
            "/content/survival.py:300: FutureWarning: The default dtype for empty Series will be 'object' instead of 'float64' in a future version. Specify a dtype explicitly to silence this warning.\n",
            "  lams = pd.Series(index=ts)\n",
            "/content/survival.py:300: FutureWarning: The default dtype for empty Series will be 'object' instead of 'float64' in a future version. Specify a dtype explicitly to silence this warning.\n",
            "  lams = pd.Series(index=ts)\n",
            "/content/survival.py:300: FutureWarning: The default dtype for empty Series will be 'object' instead of 'float64' in a future version. Specify a dtype explicitly to silence this warning.\n",
            "  lams = pd.Series(index=ts)\n",
            "/content/survival.py:300: FutureWarning: The default dtype for empty Series will be 'object' instead of 'float64' in a future version. Specify a dtype explicitly to silence this warning.\n",
            "  lams = pd.Series(index=ts)\n",
            "/content/survival.py:300: FutureWarning: The default dtype for empty Series will be 'object' instead of 'float64' in a future version. Specify a dtype explicitly to silence this warning.\n",
            "  lams = pd.Series(index=ts)\n",
            "/content/survival.py:300: FutureWarning: The default dtype for empty Series will be 'object' instead of 'float64' in a future version. Specify a dtype explicitly to silence this warning.\n",
            "  lams = pd.Series(index=ts)\n",
            "/content/survival.py:300: FutureWarning: The default dtype for empty Series will be 'object' instead of 'float64' in a future version. Specify a dtype explicitly to silence this warning.\n",
            "  lams = pd.Series(index=ts)\n",
            "/content/survival.py:300: FutureWarning: The default dtype for empty Series will be 'object' instead of 'float64' in a future version. Specify a dtype explicitly to silence this warning.\n",
            "  lams = pd.Series(index=ts)\n",
            "/content/survival.py:300: FutureWarning: The default dtype for empty Series will be 'object' instead of 'float64' in a future version. Specify a dtype explicitly to silence this warning.\n",
            "  lams = pd.Series(index=ts)\n",
            "/content/survival.py:300: FutureWarning: The default dtype for empty Series will be 'object' instead of 'float64' in a future version. Specify a dtype explicitly to silence this warning.\n",
            "  lams = pd.Series(index=ts)\n",
            "/content/survival.py:300: FutureWarning: The default dtype for empty Series will be 'object' instead of 'float64' in a future version. Specify a dtype explicitly to silence this warning.\n",
            "  lams = pd.Series(index=ts)\n",
            "/content/survival.py:300: FutureWarning: The default dtype for empty Series will be 'object' instead of 'float64' in a future version. Specify a dtype explicitly to silence this warning.\n",
            "  lams = pd.Series(index=ts)\n",
            "/content/survival.py:300: FutureWarning: The default dtype for empty Series will be 'object' instead of 'float64' in a future version. Specify a dtype explicitly to silence this warning.\n",
            "  lams = pd.Series(index=ts)\n",
            "/content/survival.py:300: FutureWarning: The default dtype for empty Series will be 'object' instead of 'float64' in a future version. Specify a dtype explicitly to silence this warning.\n",
            "  lams = pd.Series(index=ts)\n",
            "/content/survival.py:300: FutureWarning: The default dtype for empty Series will be 'object' instead of 'float64' in a future version. Specify a dtype explicitly to silence this warning.\n",
            "  lams = pd.Series(index=ts)\n",
            "/content/survival.py:300: FutureWarning: The default dtype for empty Series will be 'object' instead of 'float64' in a future version. Specify a dtype explicitly to silence this warning.\n",
            "  lams = pd.Series(index=ts)\n",
            "/content/survival.py:300: FutureWarning: The default dtype for empty Series will be 'object' instead of 'float64' in a future version. Specify a dtype explicitly to silence this warning.\n",
            "  lams = pd.Series(index=ts)\n",
            "/content/survival.py:300: FutureWarning: The default dtype for empty Series will be 'object' instead of 'float64' in a future version. Specify a dtype explicitly to silence this warning.\n",
            "  lams = pd.Series(index=ts)\n",
            "/content/survival.py:300: FutureWarning: The default dtype for empty Series will be 'object' instead of 'float64' in a future version. Specify a dtype explicitly to silence this warning.\n",
            "  lams = pd.Series(index=ts)\n",
            "/content/survival.py:300: FutureWarning: The default dtype for empty Series will be 'object' instead of 'float64' in a future version. Specify a dtype explicitly to silence this warning.\n",
            "  lams = pd.Series(index=ts)\n",
            "/content/survival.py:300: FutureWarning: The default dtype for empty Series will be 'object' instead of 'float64' in a future version. Specify a dtype explicitly to silence this warning.\n",
            "  lams = pd.Series(index=ts)\n",
            "/content/survival.py:300: FutureWarning: The default dtype for empty Series will be 'object' instead of 'float64' in a future version. Specify a dtype explicitly to silence this warning.\n",
            "  lams = pd.Series(index=ts)\n",
            "/content/survival.py:300: FutureWarning: The default dtype for empty Series will be 'object' instead of 'float64' in a future version. Specify a dtype explicitly to silence this warning.\n",
            "  lams = pd.Series(index=ts)\n",
            "/content/survival.py:300: FutureWarning: The default dtype for empty Series will be 'object' instead of 'float64' in a future version. Specify a dtype explicitly to silence this warning.\n",
            "  lams = pd.Series(index=ts)\n",
            "/content/survival.py:300: FutureWarning: The default dtype for empty Series will be 'object' instead of 'float64' in a future version. Specify a dtype explicitly to silence this warning.\n",
            "  lams = pd.Series(index=ts)\n",
            "/content/survival.py:300: FutureWarning: The default dtype for empty Series will be 'object' instead of 'float64' in a future version. Specify a dtype explicitly to silence this warning.\n",
            "  lams = pd.Series(index=ts)\n",
            "/content/survival.py:300: FutureWarning: The default dtype for empty Series will be 'object' instead of 'float64' in a future version. Specify a dtype explicitly to silence this warning.\n",
            "  lams = pd.Series(index=ts)\n",
            "/content/survival.py:300: FutureWarning: The default dtype for empty Series will be 'object' instead of 'float64' in a future version. Specify a dtype explicitly to silence this warning.\n",
            "  lams = pd.Series(index=ts)\n",
            "/content/survival.py:300: FutureWarning: The default dtype for empty Series will be 'object' instead of 'float64' in a future version. Specify a dtype explicitly to silence this warning.\n",
            "  lams = pd.Series(index=ts)\n",
            "/content/survival.py:300: FutureWarning: The default dtype for empty Series will be 'object' instead of 'float64' in a future version. Specify a dtype explicitly to silence this warning.\n",
            "  lams = pd.Series(index=ts)\n",
            "/content/survival.py:300: FutureWarning: The default dtype for empty Series will be 'object' instead of 'float64' in a future version. Specify a dtype explicitly to silence this warning.\n",
            "  lams = pd.Series(index=ts)\n",
            "/content/survival.py:300: FutureWarning: The default dtype for empty Series will be 'object' instead of 'float64' in a future version. Specify a dtype explicitly to silence this warning.\n",
            "  lams = pd.Series(index=ts)\n",
            "/content/survival.py:300: FutureWarning: The default dtype for empty Series will be 'object' instead of 'float64' in a future version. Specify a dtype explicitly to silence this warning.\n",
            "  lams = pd.Series(index=ts)\n",
            "/content/survival.py:300: FutureWarning: The default dtype for empty Series will be 'object' instead of 'float64' in a future version. Specify a dtype explicitly to silence this warning.\n",
            "  lams = pd.Series(index=ts)\n",
            "/content/survival.py:300: FutureWarning: The default dtype for empty Series will be 'object' instead of 'float64' in a future version. Specify a dtype explicitly to silence this warning.\n",
            "  lams = pd.Series(index=ts)\n",
            "/content/survival.py:300: FutureWarning: The default dtype for empty Series will be 'object' instead of 'float64' in a future version. Specify a dtype explicitly to silence this warning.\n",
            "  lams = pd.Series(index=ts)\n",
            "/content/survival.py:300: FutureWarning: The default dtype for empty Series will be 'object' instead of 'float64' in a future version. Specify a dtype explicitly to silence this warning.\n",
            "  lams = pd.Series(index=ts)\n",
            "/content/survival.py:300: FutureWarning: The default dtype for empty Series will be 'object' instead of 'float64' in a future version. Specify a dtype explicitly to silence this warning.\n",
            "  lams = pd.Series(index=ts)\n",
            "/content/survival.py:300: FutureWarning: The default dtype for empty Series will be 'object' instead of 'float64' in a future version. Specify a dtype explicitly to silence this warning.\n",
            "  lams = pd.Series(index=ts)\n",
            "/content/survival.py:300: FutureWarning: The default dtype for empty Series will be 'object' instead of 'float64' in a future version. Specify a dtype explicitly to silence this warning.\n",
            "  lams = pd.Series(index=ts)\n",
            "/content/survival.py:300: FutureWarning: The default dtype for empty Series will be 'object' instead of 'float64' in a future version. Specify a dtype explicitly to silence this warning.\n",
            "  lams = pd.Series(index=ts)\n",
            "/content/survival.py:300: FutureWarning: The default dtype for empty Series will be 'object' instead of 'float64' in a future version. Specify a dtype explicitly to silence this warning.\n",
            "  lams = pd.Series(index=ts)\n",
            "/content/survival.py:300: FutureWarning: The default dtype for empty Series will be 'object' instead of 'float64' in a future version. Specify a dtype explicitly to silence this warning.\n",
            "  lams = pd.Series(index=ts)\n",
            "/content/survival.py:300: FutureWarning: The default dtype for empty Series will be 'object' instead of 'float64' in a future version. Specify a dtype explicitly to silence this warning.\n",
            "  lams = pd.Series(index=ts)\n",
            "/content/survival.py:300: FutureWarning: The default dtype for empty Series will be 'object' instead of 'float64' in a future version. Specify a dtype explicitly to silence this warning.\n",
            "  lams = pd.Series(index=ts)\n",
            "/content/survival.py:300: FutureWarning: The default dtype for empty Series will be 'object' instead of 'float64' in a future version. Specify a dtype explicitly to silence this warning.\n",
            "  lams = pd.Series(index=ts)\n",
            "/content/survival.py:300: FutureWarning: The default dtype for empty Series will be 'object' instead of 'float64' in a future version. Specify a dtype explicitly to silence this warning.\n",
            "  lams = pd.Series(index=ts)\n",
            "/content/survival.py:300: FutureWarning: The default dtype for empty Series will be 'object' instead of 'float64' in a future version. Specify a dtype explicitly to silence this warning.\n",
            "  lams = pd.Series(index=ts)\n",
            "/content/survival.py:300: FutureWarning: The default dtype for empty Series will be 'object' instead of 'float64' in a future version. Specify a dtype explicitly to silence this warning.\n",
            "  lams = pd.Series(index=ts)\n",
            "/content/survival.py:300: FutureWarning: The default dtype for empty Series will be 'object' instead of 'float64' in a future version. Specify a dtype explicitly to silence this warning.\n",
            "  lams = pd.Series(index=ts)\n",
            "/content/survival.py:300: FutureWarning: The default dtype for empty Series will be 'object' instead of 'float64' in a future version. Specify a dtype explicitly to silence this warning.\n",
            "  lams = pd.Series(index=ts)\n",
            "/content/survival.py:300: FutureWarning: The default dtype for empty Series will be 'object' instead of 'float64' in a future version. Specify a dtype explicitly to silence this warning.\n",
            "  lams = pd.Series(index=ts)\n"
          ]
        },
        {
          "output_type": "display_data",
          "data": {
            "text/plain": [
              "<Figure size 640x480 with 1 Axes>"
            ],
            "image/png": "[encoded data removed]"
          },
          "metadata": {}
        }
      ]
    },
    {
      "cell_type": "code",
      "source": [],
      "metadata": {
        "id": "Gb_-7SswE5sk"
      },
      "execution_count": 21,
      "outputs": []
    }
  ]
}